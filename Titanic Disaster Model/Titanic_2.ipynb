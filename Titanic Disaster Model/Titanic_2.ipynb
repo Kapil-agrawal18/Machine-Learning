{
  "cells": [
    {
      "cell_type": "code",
      "execution_count": 268,
      "id": "a6586f9d",
      "metadata": {
        "id": "a6586f9d"
      },
      "outputs": [],
      "source": [
        "import pandas as pd\n",
        "import numpy as np\n",
        "import matplotlib.pyplot as plt\n",
        "import seaborn as sns\n",
        "import random\n",
        "import tensorflow as tf"
      ]
    },
    {
      "cell_type": "code",
      "execution_count": 269,
      "id": "2c485289",
      "metadata": {
        "id": "2c485289"
      },
      "outputs": [],
      "source": [
        "test_data = pd.read_csv(\"test.csv\")\n",
        "train_data = pd.read_csv(\"train.csv\")\n",
        "y_train = train_data[\"Survived\"]\n",
        "del train_data[\"Survived\"]\n",
        "df = pd.concat([train_data,test_data],axis=0)"
      ]
    },
    {
      "cell_type": "code",
      "execution_count": 270,
      "id": "86fdd1cc",
      "metadata": {
        "colab": {
          "base_uri": "https://localhost:8080/"
        },
        "id": "86fdd1cc",
        "outputId": "ca45a044-7ded-447a-989a-8545644348a3"
      },
      "outputs": [
        {
          "output_type": "execute_result",
          "data": {
            "text/plain": [
              "Mr        758\n",
              "Master    323\n",
              "Mrs       200\n",
              "Major      10\n",
              "Dr          9\n",
              "Rev         8\n",
              "Miss        1\n",
              "Name: Name, dtype: int64"
            ]
          },
          "metadata": {},
          "execution_count": 270
        }
      ],
      "source": [
        "df[\"Name\"]= df[\"Name\"].str.split(\",\", n = 1, expand = True)[1]\n",
        "df[\"Name\"]= df[\"Name\"].str.split(\".\", n = 1, expand = True)[0]\n",
        "df[\"Name\"].replace([\" Mr\",\" Miss\",\" Mrs\",\" Master\",\" Rev\",\" Dr\" ,\" Col\",\" Mlle\",\" Major\",\" Ms\",\" Lady\", \" Sir\",\" Mme\",\n",
        "                   \" Don\",\" Capt\",\" the Countess\",\" Jonkheer\", \" Dona\"],\n",
        "                   [\"Mr\",\"Master\",\"Mrs\",\"Master\",\"Rev\",\"Dr\" ,\"Major\",\"Master\",\"Major\",\"Mrs\",\"Mrs\",\"Mr\",\"Miss\",\"Major\",\"Major\",\n",
        "                    \"Major\",\"Major\", \"Dr\"], inplace = True)\n",
        "\n",
        "df[\"family member\"] = df[\"SibSp\"] + df[\"Parch\"] + 1\n",
        "df[\"Fare\"] = df[\"Fare\"].fillna(df[\"Fare\"].mean())\n",
        "df[\"Name\"].value_counts()"
      ]
    },
    {
      "cell_type": "code",
      "execution_count": 271,
      "id": "fb1a4f57",
      "metadata": {
        "colab": {
          "base_uri": "https://localhost:8080/",
          "height": 206
        },
        "id": "fb1a4f57",
        "outputId": "bf6d67c5-ac6b-41af-f589-91a56e63de2c"
      },
      "outputs": [
        {
          "output_type": "execute_result",
          "data": {
            "text/plain": [
              "   Pclass    Name     Sex   Age  SibSp  Parch            Ticket     Fare  \\\n",
              "0       3      Mr    male  22.0      1      0         A/5 21171   7.2500   \n",
              "1       1     Mrs  female  38.0      1      0          PC 17599  71.2833   \n",
              "2       3  Master  female  26.0      0      0  STON/O2. 3101282   7.9250   \n",
              "3       1     Mrs  female  35.0      1      0            113803  53.1000   \n",
              "4       3      Mr    male  35.0      0      0            373450   8.0500   \n",
              "\n",
              "  Cabin Embarked  family member  Fare_per_person  \n",
              "0   NaN        S              2          3.62500  \n",
              "1   C85        C              2         35.64165  \n",
              "2   NaN        S              1          7.92500  \n",
              "3  C123        S              2         26.55000  \n",
              "4   NaN        S              1          8.05000  "
            ],
            "text/html": [
              "\n",
              "  <div id=\"df-9b90d49a-27c3-437e-81ae-2d5f321c27ed\">\n",
              "    <div class=\"colab-df-container\">\n",
              "      <div>\n",
              "<style scoped>\n",
              "    .dataframe tbody tr th:only-of-type {\n",
              "        vertical-align: middle;\n",
              "    }\n",
              "\n",
              "    .dataframe tbody tr th {\n",
              "        vertical-align: top;\n",
              "    }\n",
              "\n",
              "    .dataframe thead th {\n",
              "        text-align: right;\n",
              "    }\n",
              "</style>\n",
              "<table border=\"1\" class=\"dataframe\">\n",
              "  <thead>\n",
              "    <tr style=\"text-align: right;\">\n",
              "      <th></th>\n",
              "      <th>Pclass</th>\n",
              "      <th>Name</th>\n",
              "      <th>Sex</th>\n",
              "      <th>Age</th>\n",
              "      <th>SibSp</th>\n",
              "      <th>Parch</th>\n",
              "      <th>Ticket</th>\n",
              "      <th>Fare</th>\n",
              "      <th>Cabin</th>\n",
              "      <th>Embarked</th>\n",
              "      <th>family member</th>\n",
              "      <th>Fare_per_person</th>\n",
              "    </tr>\n",
              "  </thead>\n",
              "  <tbody>\n",
              "    <tr>\n",
              "      <th>0</th>\n",
              "      <td>3</td>\n",
              "      <td>Mr</td>\n",
              "      <td>male</td>\n",
              "      <td>22.0</td>\n",
              "      <td>1</td>\n",
              "      <td>0</td>\n",
              "      <td>A/5 21171</td>\n",
              "      <td>7.2500</td>\n",
              "      <td>NaN</td>\n",
              "      <td>S</td>\n",
              "      <td>2</td>\n",
              "      <td>3.62500</td>\n",
              "    </tr>\n",
              "    <tr>\n",
              "      <th>1</th>\n",
              "      <td>1</td>\n",
              "      <td>Mrs</td>\n",
              "      <td>female</td>\n",
              "      <td>38.0</td>\n",
              "      <td>1</td>\n",
              "      <td>0</td>\n",
              "      <td>PC 17599</td>\n",
              "      <td>71.2833</td>\n",
              "      <td>C85</td>\n",
              "      <td>C</td>\n",
              "      <td>2</td>\n",
              "      <td>35.64165</td>\n",
              "    </tr>\n",
              "    <tr>\n",
              "      <th>2</th>\n",
              "      <td>3</td>\n",
              "      <td>Master</td>\n",
              "      <td>female</td>\n",
              "      <td>26.0</td>\n",
              "      <td>0</td>\n",
              "      <td>0</td>\n",
              "      <td>STON/O2. 3101282</td>\n",
              "      <td>7.9250</td>\n",
              "      <td>NaN</td>\n",
              "      <td>S</td>\n",
              "      <td>1</td>\n",
              "      <td>7.92500</td>\n",
              "    </tr>\n",
              "    <tr>\n",
              "      <th>3</th>\n",
              "      <td>1</td>\n",
              "      <td>Mrs</td>\n",
              "      <td>female</td>\n",
              "      <td>35.0</td>\n",
              "      <td>1</td>\n",
              "      <td>0</td>\n",
              "      <td>113803</td>\n",
              "      <td>53.1000</td>\n",
              "      <td>C123</td>\n",
              "      <td>S</td>\n",
              "      <td>2</td>\n",
              "      <td>26.55000</td>\n",
              "    </tr>\n",
              "    <tr>\n",
              "      <th>4</th>\n",
              "      <td>3</td>\n",
              "      <td>Mr</td>\n",
              "      <td>male</td>\n",
              "      <td>35.0</td>\n",
              "      <td>0</td>\n",
              "      <td>0</td>\n",
              "      <td>373450</td>\n",
              "      <td>8.0500</td>\n",
              "      <td>NaN</td>\n",
              "      <td>S</td>\n",
              "      <td>1</td>\n",
              "      <td>8.05000</td>\n",
              "    </tr>\n",
              "  </tbody>\n",
              "</table>\n",
              "</div>\n",
              "      <button class=\"colab-df-convert\" onclick=\"convertToInteractive('df-9b90d49a-27c3-437e-81ae-2d5f321c27ed')\"\n",
              "              title=\"Convert this dataframe to an interactive table.\"\n",
              "              style=\"display:none;\">\n",
              "        \n",
              "  <svg xmlns=\"http://www.w3.org/2000/svg\" height=\"24px\"viewBox=\"0 0 24 24\"\n",
              "       width=\"24px\">\n",
              "    <path d=\"M0 0h24v24H0V0z\" fill=\"none\"/>\n",
              "    <path d=\"M18.56 5.44l.94 2.06.94-2.06 2.06-.94-2.06-.94-.94-2.06-.94 2.06-2.06.94zm-11 1L8.5 8.5l.94-2.06 2.06-.94-2.06-.94L8.5 2.5l-.94 2.06-2.06.94zm10 10l.94 2.06.94-2.06 2.06-.94-2.06-.94-.94-2.06-.94 2.06-2.06.94z\"/><path d=\"M17.41 7.96l-1.37-1.37c-.4-.4-.92-.59-1.43-.59-.52 0-1.04.2-1.43.59L10.3 9.45l-7.72 7.72c-.78.78-.78 2.05 0 2.83L4 21.41c.39.39.9.59 1.41.59.51 0 1.02-.2 1.41-.59l7.78-7.78 2.81-2.81c.8-.78.8-2.07 0-2.86zM5.41 20L4 18.59l7.72-7.72 1.47 1.35L5.41 20z\"/>\n",
              "  </svg>\n",
              "      </button>\n",
              "      \n",
              "  <style>\n",
              "    .colab-df-container {\n",
              "      display:flex;\n",
              "      flex-wrap:wrap;\n",
              "      gap: 12px;\n",
              "    }\n",
              "\n",
              "    .colab-df-convert {\n",
              "      background-color: #E8F0FE;\n",
              "      border: none;\n",
              "      border-radius: 50%;\n",
              "      cursor: pointer;\n",
              "      display: none;\n",
              "      fill: #1967D2;\n",
              "      height: 32px;\n",
              "      padding: 0 0 0 0;\n",
              "      width: 32px;\n",
              "    }\n",
              "\n",
              "    .colab-df-convert:hover {\n",
              "      background-color: #E2EBFA;\n",
              "      box-shadow: 0px 1px 2px rgba(60, 64, 67, 0.3), 0px 1px 3px 1px rgba(60, 64, 67, 0.15);\n",
              "      fill: #174EA6;\n",
              "    }\n",
              "\n",
              "    [theme=dark] .colab-df-convert {\n",
              "      background-color: #3B4455;\n",
              "      fill: #D2E3FC;\n",
              "    }\n",
              "\n",
              "    [theme=dark] .colab-df-convert:hover {\n",
              "      background-color: #434B5C;\n",
              "      box-shadow: 0px 1px 3px 1px rgba(0, 0, 0, 0.15);\n",
              "      filter: drop-shadow(0px 1px 2px rgba(0, 0, 0, 0.3));\n",
              "      fill: #FFFFFF;\n",
              "    }\n",
              "  </style>\n",
              "\n",
              "      <script>\n",
              "        const buttonEl =\n",
              "          document.querySelector('#df-9b90d49a-27c3-437e-81ae-2d5f321c27ed button.colab-df-convert');\n",
              "        buttonEl.style.display =\n",
              "          google.colab.kernel.accessAllowed ? 'block' : 'none';\n",
              "\n",
              "        async function convertToInteractive(key) {\n",
              "          const element = document.querySelector('#df-9b90d49a-27c3-437e-81ae-2d5f321c27ed');\n",
              "          const dataTable =\n",
              "            await google.colab.kernel.invokeFunction('convertToInteractive',\n",
              "                                                     [key], {});\n",
              "          if (!dataTable) return;\n",
              "\n",
              "          const docLinkHtml = 'Like what you see? Visit the ' +\n",
              "            '<a target=\"_blank\" href=https://colab.research.google.com/notebooks/data_table.ipynb>data table notebook</a>'\n",
              "            + ' to learn more about interactive tables.';\n",
              "          element.innerHTML = '';\n",
              "          dataTable['output_type'] = 'display_data';\n",
              "          await google.colab.output.renderOutput(dataTable, element);\n",
              "          const docLink = document.createElement('div');\n",
              "          docLink.innerHTML = docLinkHtml;\n",
              "          element.appendChild(docLink);\n",
              "        }\n",
              "      </script>\n",
              "    </div>\n",
              "  </div>\n",
              "  "
            ]
          },
          "metadata": {},
          "execution_count": 271
        }
      ],
      "source": [
        "df[\"Fare_per_person\"] = df[\"Fare\"]/df[\"family member\"]\n",
        "del df[\"PassengerId\"]\n",
        "df.head()"
      ]
    },
    {
      "cell_type": "code",
      "execution_count": 272,
      "id": "4b8d02df",
      "metadata": {
        "colab": {
          "base_uri": "https://localhost:8080/",
          "height": 206
        },
        "id": "4b8d02df",
        "outputId": "4211c98c-3b3b-44f9-b06f-62cd14168abd"
      },
      "outputs": [
        {
          "output_type": "execute_result",
          "data": {
            "text/plain": [
              "   Pclass   Age  SibSp  Parch     Fare  family member  Fare_per_person\n",
              "0       3  22.0      1      0   7.2500              2          3.62500\n",
              "1       1  38.0      1      0  71.2833              2         35.64165\n",
              "2       3  26.0      0      0   7.9250              1          7.92500\n",
              "3       1  35.0      1      0  53.1000              2         26.55000\n",
              "4       3  35.0      0      0   8.0500              1          8.05000"
            ],
            "text/html": [
              "\n",
              "  <div id=\"df-781436b3-2284-43a2-947b-b0aa7e22fcc4\">\n",
              "    <div class=\"colab-df-container\">\n",
              "      <div>\n",
              "<style scoped>\n",
              "    .dataframe tbody tr th:only-of-type {\n",
              "        vertical-align: middle;\n",
              "    }\n",
              "\n",
              "    .dataframe tbody tr th {\n",
              "        vertical-align: top;\n",
              "    }\n",
              "\n",
              "    .dataframe thead th {\n",
              "        text-align: right;\n",
              "    }\n",
              "</style>\n",
              "<table border=\"1\" class=\"dataframe\">\n",
              "  <thead>\n",
              "    <tr style=\"text-align: right;\">\n",
              "      <th></th>\n",
              "      <th>Pclass</th>\n",
              "      <th>Age</th>\n",
              "      <th>SibSp</th>\n",
              "      <th>Parch</th>\n",
              "      <th>Fare</th>\n",
              "      <th>family member</th>\n",
              "      <th>Fare_per_person</th>\n",
              "    </tr>\n",
              "  </thead>\n",
              "  <tbody>\n",
              "    <tr>\n",
              "      <th>0</th>\n",
              "      <td>3</td>\n",
              "      <td>22.0</td>\n",
              "      <td>1</td>\n",
              "      <td>0</td>\n",
              "      <td>7.2500</td>\n",
              "      <td>2</td>\n",
              "      <td>3.62500</td>\n",
              "    </tr>\n",
              "    <tr>\n",
              "      <th>1</th>\n",
              "      <td>1</td>\n",
              "      <td>38.0</td>\n",
              "      <td>1</td>\n",
              "      <td>0</td>\n",
              "      <td>71.2833</td>\n",
              "      <td>2</td>\n",
              "      <td>35.64165</td>\n",
              "    </tr>\n",
              "    <tr>\n",
              "      <th>2</th>\n",
              "      <td>3</td>\n",
              "      <td>26.0</td>\n",
              "      <td>0</td>\n",
              "      <td>0</td>\n",
              "      <td>7.9250</td>\n",
              "      <td>1</td>\n",
              "      <td>7.92500</td>\n",
              "    </tr>\n",
              "    <tr>\n",
              "      <th>3</th>\n",
              "      <td>1</td>\n",
              "      <td>35.0</td>\n",
              "      <td>1</td>\n",
              "      <td>0</td>\n",
              "      <td>53.1000</td>\n",
              "      <td>2</td>\n",
              "      <td>26.55000</td>\n",
              "    </tr>\n",
              "    <tr>\n",
              "      <th>4</th>\n",
              "      <td>3</td>\n",
              "      <td>35.0</td>\n",
              "      <td>0</td>\n",
              "      <td>0</td>\n",
              "      <td>8.0500</td>\n",
              "      <td>1</td>\n",
              "      <td>8.05000</td>\n",
              "    </tr>\n",
              "  </tbody>\n",
              "</table>\n",
              "</div>\n",
              "      <button class=\"colab-df-convert\" onclick=\"convertToInteractive('df-781436b3-2284-43a2-947b-b0aa7e22fcc4')\"\n",
              "              title=\"Convert this dataframe to an interactive table.\"\n",
              "              style=\"display:none;\">\n",
              "        \n",
              "  <svg xmlns=\"http://www.w3.org/2000/svg\" height=\"24px\"viewBox=\"0 0 24 24\"\n",
              "       width=\"24px\">\n",
              "    <path d=\"M0 0h24v24H0V0z\" fill=\"none\"/>\n",
              "    <path d=\"M18.56 5.44l.94 2.06.94-2.06 2.06-.94-2.06-.94-.94-2.06-.94 2.06-2.06.94zm-11 1L8.5 8.5l.94-2.06 2.06-.94-2.06-.94L8.5 2.5l-.94 2.06-2.06.94zm10 10l.94 2.06.94-2.06 2.06-.94-2.06-.94-.94-2.06-.94 2.06-2.06.94z\"/><path d=\"M17.41 7.96l-1.37-1.37c-.4-.4-.92-.59-1.43-.59-.52 0-1.04.2-1.43.59L10.3 9.45l-7.72 7.72c-.78.78-.78 2.05 0 2.83L4 21.41c.39.39.9.59 1.41.59.51 0 1.02-.2 1.41-.59l7.78-7.78 2.81-2.81c.8-.78.8-2.07 0-2.86zM5.41 20L4 18.59l7.72-7.72 1.47 1.35L5.41 20z\"/>\n",
              "  </svg>\n",
              "      </button>\n",
              "      \n",
              "  <style>\n",
              "    .colab-df-container {\n",
              "      display:flex;\n",
              "      flex-wrap:wrap;\n",
              "      gap: 12px;\n",
              "    }\n",
              "\n",
              "    .colab-df-convert {\n",
              "      background-color: #E8F0FE;\n",
              "      border: none;\n",
              "      border-radius: 50%;\n",
              "      cursor: pointer;\n",
              "      display: none;\n",
              "      fill: #1967D2;\n",
              "      height: 32px;\n",
              "      padding: 0 0 0 0;\n",
              "      width: 32px;\n",
              "    }\n",
              "\n",
              "    .colab-df-convert:hover {\n",
              "      background-color: #E2EBFA;\n",
              "      box-shadow: 0px 1px 2px rgba(60, 64, 67, 0.3), 0px 1px 3px 1px rgba(60, 64, 67, 0.15);\n",
              "      fill: #174EA6;\n",
              "    }\n",
              "\n",
              "    [theme=dark] .colab-df-convert {\n",
              "      background-color: #3B4455;\n",
              "      fill: #D2E3FC;\n",
              "    }\n",
              "\n",
              "    [theme=dark] .colab-df-convert:hover {\n",
              "      background-color: #434B5C;\n",
              "      box-shadow: 0px 1px 3px 1px rgba(0, 0, 0, 0.15);\n",
              "      filter: drop-shadow(0px 1px 2px rgba(0, 0, 0, 0.3));\n",
              "      fill: #FFFFFF;\n",
              "    }\n",
              "  </style>\n",
              "\n",
              "      <script>\n",
              "        const buttonEl =\n",
              "          document.querySelector('#df-781436b3-2284-43a2-947b-b0aa7e22fcc4 button.colab-df-convert');\n",
              "        buttonEl.style.display =\n",
              "          google.colab.kernel.accessAllowed ? 'block' : 'none';\n",
              "\n",
              "        async function convertToInteractive(key) {\n",
              "          const element = document.querySelector('#df-781436b3-2284-43a2-947b-b0aa7e22fcc4');\n",
              "          const dataTable =\n",
              "            await google.colab.kernel.invokeFunction('convertToInteractive',\n",
              "                                                     [key], {});\n",
              "          if (!dataTable) return;\n",
              "\n",
              "          const docLinkHtml = 'Like what you see? Visit the ' +\n",
              "            '<a target=\"_blank\" href=https://colab.research.google.com/notebooks/data_table.ipynb>data table notebook</a>'\n",
              "            + ' to learn more about interactive tables.';\n",
              "          element.innerHTML = '';\n",
              "          dataTable['output_type'] = 'display_data';\n",
              "          await google.colab.output.renderOutput(dataTable, element);\n",
              "          const docLink = document.createElement('div');\n",
              "          docLink.innerHTML = docLinkHtml;\n",
              "          element.appendChild(docLink);\n",
              "        }\n",
              "      </script>\n",
              "    </div>\n",
              "  </div>\n",
              "  "
            ]
          },
          "metadata": {},
          "execution_count": 272
        }
      ],
      "source": [
        "column = df.columns\n",
        "typ = df[\"Ticket\"].dtype\n",
        "column = [col for col in column if not df[col].dtype== typ]\n",
        "int_df = df[np.array(column)].copy()\n",
        "int_df.head()"
      ]
    },
    {
      "cell_type": "code",
      "source": [
        "for i in range(int_df.shape[0]):\n",
        "    dataset = int_df.iloc[i:i+1,:]\n",
        "    if(dataset[\"Fare_per_person\"].values[0] <= 10 and dataset[\"Fare_per_person\"].values[0] > 0):\n",
        "        dataset[\"Fare_per_person\"].values[0] = 1\n",
        "        int_df.iloc[i:i+1,:] = dataset\n",
        "    if(dataset[\"Fare_per_person\"].values[0] > 10 and dataset[\"Fare_per_person\"].values[0] <= 50):\n",
        "        dataset[\"Fare_per_person\"].values[0] = 2\n",
        "        int_df.iloc[i:i+1,:] = dataset\n",
        "    if(dataset[\"Fare_per_person\"].values[0] > 50 and dataset[\"Fare_per_person\"].values[0] <= 200):\n",
        "        dataset[\"Fare_per_person\"].values[0] = 3\n",
        "        int_df.iloc[i:i+1,:] = dataset\n",
        "    if(dataset[\"Fare_per_person\"].values[0] > 200):\n",
        "        dataset[\"Fare_per_person\"].values[0] = 4\n",
        "        int_df.iloc[i:i+1,:] = dataset"
      ],
      "metadata": {
        "id": "Tvq48DAgiIyz"
      },
      "id": "Tvq48DAgiIyz",
      "execution_count": 273,
      "outputs": []
    },
    {
      "cell_type": "code",
      "execution_count": 274,
      "id": "0d189700",
      "metadata": {
        "colab": {
          "base_uri": "https://localhost:8080/"
        },
        "id": "0d189700",
        "outputId": "78f20e5d-ce7a-4b2e-fdb3-324a19c283af"
      },
      "outputs": [
        {
          "output_type": "execute_result",
          "data": {
            "text/plain": [
              "Pclass             0\n",
              "Age                0\n",
              "SibSp              0\n",
              "Parch              0\n",
              "Fare               0\n",
              "family member      0\n",
              "Fare_per_person    0\n",
              "dtype: int64"
            ]
          },
          "metadata": {},
          "execution_count": 274
        }
      ],
      "source": [
        "int_df[\"Age\"] = int_df[\"Age\"].fillna(df[\"Age\"].mean())\n",
        "int_df.isnull().sum()"
      ]
    },
    {
      "cell_type": "code",
      "source": [
        "for i in range(int_df.shape[0]):\n",
        "    dataset = int_df.iloc[i:i+1,:]\n",
        "    if(dataset[\"Age\"].values[0] <= 11):\n",
        "        dataset[\"Age\"].values[0] = 0\n",
        "        int_df.iloc[i:i+1,:] = dataset\n",
        "    if(dataset[\"Age\"].values[0] > 11 and dataset[\"Age\"].values[0] < 18):\n",
        "        dataset[\"Age\"].values[0] = 1\n",
        "        int_df.iloc[i:i+1,:] = dataset\n",
        "    if(dataset[\"Age\"].values[0] >= 18 and dataset[\"Age\"].values[0] < 22):\n",
        "        dataset[\"Age\"].values[0] = 2\n",
        "        int_df.iloc[i:i+1,:] = dataset\n",
        "    if(dataset[\"Age\"].values[0] >= 22 and dataset[\"Age\"].values[0] < 27):\n",
        "        dataset[\"Age\"].values[0] = 3\n",
        "        int_df.iloc[i:i+1,:] = dataset\n",
        "    if(dataset[\"Age\"].values[0] >= 27 and dataset[\"Age\"].values[0] < 33):\n",
        "        dataset[\"Age\"].values[0] = 4\n",
        "        int_df.iloc[i:i+1,:] = dataset\n",
        "    if(dataset[\"Age\"].values[0] >= 33 and dataset[\"Age\"].values[0] < 40):\n",
        "        dataset[\"Age\"].values[0] = 5\n",
        "        int_df.iloc[i:i+1,:] = dataset\n",
        "    if(dataset[\"Age\"].values[0] >= 40 and dataset[\"Age\"].values[0] < 46):\n",
        "        dataset[\"Age\"].values[0] = 6\n",
        "        int_df.iloc[i:i+1,:] = dataset\n",
        "    if(dataset[\"Age\"].values[0] >= 46):\n",
        "        dataset[\"Age\"].values[0] = 7\n",
        "        int_df.iloc[i:i+1,:] = dataset"
      ],
      "metadata": {
        "id": "DbCuBuPhfhEp"
      },
      "id": "DbCuBuPhfhEp",
      "execution_count": 275,
      "outputs": []
    },
    {
      "cell_type": "code",
      "execution_count": 276,
      "id": "c55ab750",
      "metadata": {
        "colab": {
          "base_uri": "https://localhost:8080/"
        },
        "id": "c55ab750",
        "outputId": "47514ba3-dfe9-42d3-f919-17fd405a5154"
      },
      "outputs": [
        {
          "output_type": "execute_result",
          "data": {
            "text/plain": [
              "['Name', 'Sex', 'Ticket', 'Cabin', 'Embarked']"
            ]
          },
          "metadata": {},
          "execution_count": 276
        }
      ],
      "source": [
        "col_str = [col for col in df.columns if not col in column]\n",
        "col_str"
      ]
    },
    {
      "cell_type": "code",
      "execution_count": 277,
      "id": "91d777b1",
      "metadata": {
        "colab": {
          "base_uri": "https://localhost:8080/",
          "height": 206
        },
        "id": "91d777b1",
        "outputId": "2286a61f-49a0-411b-bbbc-d362d56696ef"
      },
      "outputs": [
        {
          "output_type": "execute_result",
          "data": {
            "text/plain": [
              "     Name     Sex            Ticket Cabin Embarked\n",
              "0      Mr    male         A/5 21171   NaN        S\n",
              "1     Mrs  female          PC 17599   C85        C\n",
              "2  Master  female  STON/O2. 3101282   NaN        S\n",
              "3     Mrs  female            113803  C123        S\n",
              "4      Mr    male            373450   NaN        S"
            ],
            "text/html": [
              "\n",
              "  <div id=\"df-1d0d1314-3008-4e11-b33f-06109c10684b\">\n",
              "    <div class=\"colab-df-container\">\n",
              "      <div>\n",
              "<style scoped>\n",
              "    .dataframe tbody tr th:only-of-type {\n",
              "        vertical-align: middle;\n",
              "    }\n",
              "\n",
              "    .dataframe tbody tr th {\n",
              "        vertical-align: top;\n",
              "    }\n",
              "\n",
              "    .dataframe thead th {\n",
              "        text-align: right;\n",
              "    }\n",
              "</style>\n",
              "<table border=\"1\" class=\"dataframe\">\n",
              "  <thead>\n",
              "    <tr style=\"text-align: right;\">\n",
              "      <th></th>\n",
              "      <th>Name</th>\n",
              "      <th>Sex</th>\n",
              "      <th>Ticket</th>\n",
              "      <th>Cabin</th>\n",
              "      <th>Embarked</th>\n",
              "    </tr>\n",
              "  </thead>\n",
              "  <tbody>\n",
              "    <tr>\n",
              "      <th>0</th>\n",
              "      <td>Mr</td>\n",
              "      <td>male</td>\n",
              "      <td>A/5 21171</td>\n",
              "      <td>NaN</td>\n",
              "      <td>S</td>\n",
              "    </tr>\n",
              "    <tr>\n",
              "      <th>1</th>\n",
              "      <td>Mrs</td>\n",
              "      <td>female</td>\n",
              "      <td>PC 17599</td>\n",
              "      <td>C85</td>\n",
              "      <td>C</td>\n",
              "    </tr>\n",
              "    <tr>\n",
              "      <th>2</th>\n",
              "      <td>Master</td>\n",
              "      <td>female</td>\n",
              "      <td>STON/O2. 3101282</td>\n",
              "      <td>NaN</td>\n",
              "      <td>S</td>\n",
              "    </tr>\n",
              "    <tr>\n",
              "      <th>3</th>\n",
              "      <td>Mrs</td>\n",
              "      <td>female</td>\n",
              "      <td>113803</td>\n",
              "      <td>C123</td>\n",
              "      <td>S</td>\n",
              "    </tr>\n",
              "    <tr>\n",
              "      <th>4</th>\n",
              "      <td>Mr</td>\n",
              "      <td>male</td>\n",
              "      <td>373450</td>\n",
              "      <td>NaN</td>\n",
              "      <td>S</td>\n",
              "    </tr>\n",
              "  </tbody>\n",
              "</table>\n",
              "</div>\n",
              "      <button class=\"colab-df-convert\" onclick=\"convertToInteractive('df-1d0d1314-3008-4e11-b33f-06109c10684b')\"\n",
              "              title=\"Convert this dataframe to an interactive table.\"\n",
              "              style=\"display:none;\">\n",
              "        \n",
              "  <svg xmlns=\"http://www.w3.org/2000/svg\" height=\"24px\"viewBox=\"0 0 24 24\"\n",
              "       width=\"24px\">\n",
              "    <path d=\"M0 0h24v24H0V0z\" fill=\"none\"/>\n",
              "    <path d=\"M18.56 5.44l.94 2.06.94-2.06 2.06-.94-2.06-.94-.94-2.06-.94 2.06-2.06.94zm-11 1L8.5 8.5l.94-2.06 2.06-.94-2.06-.94L8.5 2.5l-.94 2.06-2.06.94zm10 10l.94 2.06.94-2.06 2.06-.94-2.06-.94-.94-2.06-.94 2.06-2.06.94z\"/><path d=\"M17.41 7.96l-1.37-1.37c-.4-.4-.92-.59-1.43-.59-.52 0-1.04.2-1.43.59L10.3 9.45l-7.72 7.72c-.78.78-.78 2.05 0 2.83L4 21.41c.39.39.9.59 1.41.59.51 0 1.02-.2 1.41-.59l7.78-7.78 2.81-2.81c.8-.78.8-2.07 0-2.86zM5.41 20L4 18.59l7.72-7.72 1.47 1.35L5.41 20z\"/>\n",
              "  </svg>\n",
              "      </button>\n",
              "      \n",
              "  <style>\n",
              "    .colab-df-container {\n",
              "      display:flex;\n",
              "      flex-wrap:wrap;\n",
              "      gap: 12px;\n",
              "    }\n",
              "\n",
              "    .colab-df-convert {\n",
              "      background-color: #E8F0FE;\n",
              "      border: none;\n",
              "      border-radius: 50%;\n",
              "      cursor: pointer;\n",
              "      display: none;\n",
              "      fill: #1967D2;\n",
              "      height: 32px;\n",
              "      padding: 0 0 0 0;\n",
              "      width: 32px;\n",
              "    }\n",
              "\n",
              "    .colab-df-convert:hover {\n",
              "      background-color: #E2EBFA;\n",
              "      box-shadow: 0px 1px 2px rgba(60, 64, 67, 0.3), 0px 1px 3px 1px rgba(60, 64, 67, 0.15);\n",
              "      fill: #174EA6;\n",
              "    }\n",
              "\n",
              "    [theme=dark] .colab-df-convert {\n",
              "      background-color: #3B4455;\n",
              "      fill: #D2E3FC;\n",
              "    }\n",
              "\n",
              "    [theme=dark] .colab-df-convert:hover {\n",
              "      background-color: #434B5C;\n",
              "      box-shadow: 0px 1px 3px 1px rgba(0, 0, 0, 0.15);\n",
              "      filter: drop-shadow(0px 1px 2px rgba(0, 0, 0, 0.3));\n",
              "      fill: #FFFFFF;\n",
              "    }\n",
              "  </style>\n",
              "\n",
              "      <script>\n",
              "        const buttonEl =\n",
              "          document.querySelector('#df-1d0d1314-3008-4e11-b33f-06109c10684b button.colab-df-convert');\n",
              "        buttonEl.style.display =\n",
              "          google.colab.kernel.accessAllowed ? 'block' : 'none';\n",
              "\n",
              "        async function convertToInteractive(key) {\n",
              "          const element = document.querySelector('#df-1d0d1314-3008-4e11-b33f-06109c10684b');\n",
              "          const dataTable =\n",
              "            await google.colab.kernel.invokeFunction('convertToInteractive',\n",
              "                                                     [key], {});\n",
              "          if (!dataTable) return;\n",
              "\n",
              "          const docLinkHtml = 'Like what you see? Visit the ' +\n",
              "            '<a target=\"_blank\" href=https://colab.research.google.com/notebooks/data_table.ipynb>data table notebook</a>'\n",
              "            + ' to learn more about interactive tables.';\n",
              "          element.innerHTML = '';\n",
              "          dataTable['output_type'] = 'display_data';\n",
              "          await google.colab.output.renderOutput(dataTable, element);\n",
              "          const docLink = document.createElement('div');\n",
              "          docLink.innerHTML = docLinkHtml;\n",
              "          element.appendChild(docLink);\n",
              "        }\n",
              "      </script>\n",
              "    </div>\n",
              "  </div>\n",
              "  "
            ]
          },
          "metadata": {},
          "execution_count": 277
        }
      ],
      "source": [
        "str_df = df[np.array(col_str)].copy()\n",
        "str_df.head()"
      ]
    },
    {
      "cell_type": "code",
      "execution_count": 278,
      "id": "0c31ddcd",
      "metadata": {
        "id": "0c31ddcd"
      },
      "outputs": [],
      "source": [
        "cabin = str_df[\"Cabin\"]\n",
        "# cabin[\"Cabin\"] = cabin[\"Cabin\"].fillna(0)\n",
        "# cabin[cabin[\"Cabin\"] != 0] = 1\n",
        "cabin = pd.DataFrame(cabin)"
      ]
    },
    {
      "cell_type": "code",
      "execution_count": 279,
      "id": "a270a70e",
      "metadata": {
        "id": "a270a70e"
      },
      "outputs": [],
      "source": [
        "cabin = cabin.fillna(0)\n",
        "cabin[cabin[\"Cabin\"] != 0] = 1"
      ]
    },
    {
      "cell_type": "code",
      "execution_count": 280,
      "id": "a966bdb7",
      "metadata": {
        "colab": {
          "base_uri": "https://localhost:8080/",
          "height": 424
        },
        "id": "a966bdb7",
        "outputId": "438a7037-f308-47cb-c7f6-c5c8f6fd4502"
      },
      "outputs": [
        {
          "output_type": "execute_result",
          "data": {
            "text/plain": [
              "       Name     Sex Embarked\n",
              "0        Mr    male        S\n",
              "1       Mrs  female        C\n",
              "2    Master  female        S\n",
              "3       Mrs  female        S\n",
              "4        Mr    male        S\n",
              "..      ...     ...      ...\n",
              "413      Mr    male        S\n",
              "414      Dr  female        C\n",
              "415      Mr    male        S\n",
              "416      Mr    male        S\n",
              "417  Master    male        C\n",
              "\n",
              "[1309 rows x 3 columns]"
            ],
            "text/html": [
              "\n",
              "  <div id=\"df-c5d70173-f3cd-49c9-80e9-547803ec968d\">\n",
              "    <div class=\"colab-df-container\">\n",
              "      <div>\n",
              "<style scoped>\n",
              "    .dataframe tbody tr th:only-of-type {\n",
              "        vertical-align: middle;\n",
              "    }\n",
              "\n",
              "    .dataframe tbody tr th {\n",
              "        vertical-align: top;\n",
              "    }\n",
              "\n",
              "    .dataframe thead th {\n",
              "        text-align: right;\n",
              "    }\n",
              "</style>\n",
              "<table border=\"1\" class=\"dataframe\">\n",
              "  <thead>\n",
              "    <tr style=\"text-align: right;\">\n",
              "      <th></th>\n",
              "      <th>Name</th>\n",
              "      <th>Sex</th>\n",
              "      <th>Embarked</th>\n",
              "    </tr>\n",
              "  </thead>\n",
              "  <tbody>\n",
              "    <tr>\n",
              "      <th>0</th>\n",
              "      <td>Mr</td>\n",
              "      <td>male</td>\n",
              "      <td>S</td>\n",
              "    </tr>\n",
              "    <tr>\n",
              "      <th>1</th>\n",
              "      <td>Mrs</td>\n",
              "      <td>female</td>\n",
              "      <td>C</td>\n",
              "    </tr>\n",
              "    <tr>\n",
              "      <th>2</th>\n",
              "      <td>Master</td>\n",
              "      <td>female</td>\n",
              "      <td>S</td>\n",
              "    </tr>\n",
              "    <tr>\n",
              "      <th>3</th>\n",
              "      <td>Mrs</td>\n",
              "      <td>female</td>\n",
              "      <td>S</td>\n",
              "    </tr>\n",
              "    <tr>\n",
              "      <th>4</th>\n",
              "      <td>Mr</td>\n",
              "      <td>male</td>\n",
              "      <td>S</td>\n",
              "    </tr>\n",
              "    <tr>\n",
              "      <th>...</th>\n",
              "      <td>...</td>\n",
              "      <td>...</td>\n",
              "      <td>...</td>\n",
              "    </tr>\n",
              "    <tr>\n",
              "      <th>413</th>\n",
              "      <td>Mr</td>\n",
              "      <td>male</td>\n",
              "      <td>S</td>\n",
              "    </tr>\n",
              "    <tr>\n",
              "      <th>414</th>\n",
              "      <td>Dr</td>\n",
              "      <td>female</td>\n",
              "      <td>C</td>\n",
              "    </tr>\n",
              "    <tr>\n",
              "      <th>415</th>\n",
              "      <td>Mr</td>\n",
              "      <td>male</td>\n",
              "      <td>S</td>\n",
              "    </tr>\n",
              "    <tr>\n",
              "      <th>416</th>\n",
              "      <td>Mr</td>\n",
              "      <td>male</td>\n",
              "      <td>S</td>\n",
              "    </tr>\n",
              "    <tr>\n",
              "      <th>417</th>\n",
              "      <td>Master</td>\n",
              "      <td>male</td>\n",
              "      <td>C</td>\n",
              "    </tr>\n",
              "  </tbody>\n",
              "</table>\n",
              "<p>1309 rows × 3 columns</p>\n",
              "</div>\n",
              "      <button class=\"colab-df-convert\" onclick=\"convertToInteractive('df-c5d70173-f3cd-49c9-80e9-547803ec968d')\"\n",
              "              title=\"Convert this dataframe to an interactive table.\"\n",
              "              style=\"display:none;\">\n",
              "        \n",
              "  <svg xmlns=\"http://www.w3.org/2000/svg\" height=\"24px\"viewBox=\"0 0 24 24\"\n",
              "       width=\"24px\">\n",
              "    <path d=\"M0 0h24v24H0V0z\" fill=\"none\"/>\n",
              "    <path d=\"M18.56 5.44l.94 2.06.94-2.06 2.06-.94-2.06-.94-.94-2.06-.94 2.06-2.06.94zm-11 1L8.5 8.5l.94-2.06 2.06-.94-2.06-.94L8.5 2.5l-.94 2.06-2.06.94zm10 10l.94 2.06.94-2.06 2.06-.94-2.06-.94-.94-2.06-.94 2.06-2.06.94z\"/><path d=\"M17.41 7.96l-1.37-1.37c-.4-.4-.92-.59-1.43-.59-.52 0-1.04.2-1.43.59L10.3 9.45l-7.72 7.72c-.78.78-.78 2.05 0 2.83L4 21.41c.39.39.9.59 1.41.59.51 0 1.02-.2 1.41-.59l7.78-7.78 2.81-2.81c.8-.78.8-2.07 0-2.86zM5.41 20L4 18.59l7.72-7.72 1.47 1.35L5.41 20z\"/>\n",
              "  </svg>\n",
              "      </button>\n",
              "      \n",
              "  <style>\n",
              "    .colab-df-container {\n",
              "      display:flex;\n",
              "      flex-wrap:wrap;\n",
              "      gap: 12px;\n",
              "    }\n",
              "\n",
              "    .colab-df-convert {\n",
              "      background-color: #E8F0FE;\n",
              "      border: none;\n",
              "      border-radius: 50%;\n",
              "      cursor: pointer;\n",
              "      display: none;\n",
              "      fill: #1967D2;\n",
              "      height: 32px;\n",
              "      padding: 0 0 0 0;\n",
              "      width: 32px;\n",
              "    }\n",
              "\n",
              "    .colab-df-convert:hover {\n",
              "      background-color: #E2EBFA;\n",
              "      box-shadow: 0px 1px 2px rgba(60, 64, 67, 0.3), 0px 1px 3px 1px rgba(60, 64, 67, 0.15);\n",
              "      fill: #174EA6;\n",
              "    }\n",
              "\n",
              "    [theme=dark] .colab-df-convert {\n",
              "      background-color: #3B4455;\n",
              "      fill: #D2E3FC;\n",
              "    }\n",
              "\n",
              "    [theme=dark] .colab-df-convert:hover {\n",
              "      background-color: #434B5C;\n",
              "      box-shadow: 0px 1px 3px 1px rgba(0, 0, 0, 0.15);\n",
              "      filter: drop-shadow(0px 1px 2px rgba(0, 0, 0, 0.3));\n",
              "      fill: #FFFFFF;\n",
              "    }\n",
              "  </style>\n",
              "\n",
              "      <script>\n",
              "        const buttonEl =\n",
              "          document.querySelector('#df-c5d70173-f3cd-49c9-80e9-547803ec968d button.colab-df-convert');\n",
              "        buttonEl.style.display =\n",
              "          google.colab.kernel.accessAllowed ? 'block' : 'none';\n",
              "\n",
              "        async function convertToInteractive(key) {\n",
              "          const element = document.querySelector('#df-c5d70173-f3cd-49c9-80e9-547803ec968d');\n",
              "          const dataTable =\n",
              "            await google.colab.kernel.invokeFunction('convertToInteractive',\n",
              "                                                     [key], {});\n",
              "          if (!dataTable) return;\n",
              "\n",
              "          const docLinkHtml = 'Like what you see? Visit the ' +\n",
              "            '<a target=\"_blank\" href=https://colab.research.google.com/notebooks/data_table.ipynb>data table notebook</a>'\n",
              "            + ' to learn more about interactive tables.';\n",
              "          element.innerHTML = '';\n",
              "          dataTable['output_type'] = 'display_data';\n",
              "          await google.colab.output.renderOutput(dataTable, element);\n",
              "          const docLink = document.createElement('div');\n",
              "          docLink.innerHTML = docLinkHtml;\n",
              "          element.appendChild(docLink);\n",
              "        }\n",
              "      </script>\n",
              "    </div>\n",
              "  </div>\n",
              "  "
            ]
          },
          "metadata": {},
          "execution_count": 280
        }
      ],
      "source": [
        "int_df = pd.concat([int_df,cabin],axis=1)\n",
        "del str_df[\"Cabin\"]\n",
        "del str_df[\"Ticket\"]\n",
        "str_df"
      ]
    },
    {
      "cell_type": "code",
      "execution_count": 281,
      "id": "0f29c997",
      "metadata": {
        "colab": {
          "base_uri": "https://localhost:8080/"
        },
        "id": "0f29c997",
        "outputId": "01368432-0ac4-4242-dd26-cd7b20d7f8d3"
      },
      "outputs": [
        {
          "output_type": "execute_result",
          "data": {
            "text/plain": [
              "(1309, 12)"
            ]
          },
          "metadata": {},
          "execution_count": 281
        }
      ],
      "source": [
        "str_columns = str_df.columns\n",
        "for col in str_columns:\n",
        "    vect = pd.get_dummies(df[col], prefix=col+\"_\")\n",
        "    del str_df[col]\n",
        "    str_df = pd.concat([str_df,vect], axis = 1)\n",
        "    \n",
        "str_df.shape"
      ]
    },
    {
      "cell_type": "code",
      "source": [
        "int_df.head()\n",
        "int_df[\"Pclass_age\"] = int_df[\"Pclass\"] * int_df[\"Age\"]\n",
        "int_df[\"Age_fare\"] = int_df[\"Age\"] + int_df[\"Fare_per_person\"]"
      ],
      "metadata": {
        "id": "Inl8F6NtklDH"
      },
      "id": "Inl8F6NtklDH",
      "execution_count": 282,
      "outputs": []
    },
    {
      "cell_type": "code",
      "execution_count": 283,
      "id": "94f0609e",
      "metadata": {
        "colab": {
          "base_uri": "https://localhost:8080/"
        },
        "id": "94f0609e",
        "outputId": "0e30321f-b2f9-4c44-f80a-37c59c760b9e"
      },
      "outputs": [
        {
          "output_type": "stream",
          "name": "stdout",
          "text": [
            "<class 'pandas.core.frame.DataFrame'>\n",
            "Int64Index: 1309 entries, 0 to 417\n",
            "Data columns (total 22 columns):\n",
            " #   Column           Non-Null Count  Dtype  \n",
            "---  ------           --------------  -----  \n",
            " 0   Pclass           1309 non-null   float64\n",
            " 1   Age              1309 non-null   float64\n",
            " 2   SibSp            1309 non-null   float64\n",
            " 3   Parch            1309 non-null   float64\n",
            " 4   Fare             1309 non-null   float64\n",
            " 5   family member    1309 non-null   float64\n",
            " 6   Fare_per_person  1309 non-null   float64\n",
            " 7   Cabin            1309 non-null   float64\n",
            " 8   Pclass_age       1309 non-null   float64\n",
            " 9   Age_fare         1309 non-null   float64\n",
            " 10  Name__Dr         1309 non-null   float64\n",
            " 11  Name__Major      1309 non-null   float64\n",
            " 12  Name__Master     1309 non-null   float64\n",
            " 13  Name__Miss       1309 non-null   float64\n",
            " 14  Name__Mr         1309 non-null   float64\n",
            " 15  Name__Mrs        1309 non-null   float64\n",
            " 16  Name__Rev        1309 non-null   float64\n",
            " 17  Sex__female      1309 non-null   float64\n",
            " 18  Sex__male        1309 non-null   float64\n",
            " 19  Embarked__C      1309 non-null   float64\n",
            " 20  Embarked__Q      1309 non-null   float64\n",
            " 21  Embarked__S      1309 non-null   float64\n",
            "dtypes: float64(22)\n",
            "memory usage: 235.2 KB\n"
          ]
        }
      ],
      "source": [
        "df = pd.concat([int_df,str_df],axis=1)\n",
        "df = df.astype('float')\n",
        "df.info()"
      ]
    },
    {
      "cell_type": "code",
      "execution_count": 284,
      "id": "a29a7492",
      "metadata": {
        "colab": {
          "base_uri": "https://localhost:8080/"
        },
        "id": "a29a7492",
        "outputId": "f6314645-2705-4ae4-f895-64373dc1d5c4"
      },
      "outputs": [
        {
          "output_type": "execute_result",
          "data": {
            "text/plain": [
              "(891, 11)"
            ]
          },
          "metadata": {},
          "execution_count": 284
        }
      ],
      "source": [
        "train_data.shape"
      ]
    },
    {
      "cell_type": "code",
      "execution_count": 285,
      "id": "84538ad2",
      "metadata": {
        "id": "84538ad2"
      },
      "outputs": [],
      "source": [
        "X_train = df.iloc[:891,:].values\n",
        "X_test = df.iloc[891:,:].values"
      ]
    },
    {
      "cell_type": "code",
      "execution_count": 286,
      "id": "06854825",
      "metadata": {
        "id": "06854825"
      },
      "outputs": [],
      "source": [
        "y_train = pd.DataFrame(y_train)"
      ]
    },
    {
      "cell_type": "code",
      "execution_count": 287,
      "id": "59749555",
      "metadata": {
        "id": "59749555"
      },
      "outputs": [],
      "source": [
        "y_train = y_train.iloc[:,-1].values"
      ]
    },
    {
      "cell_type": "code",
      "execution_count": 288,
      "id": "346c97b0",
      "metadata": {
        "id": "346c97b0"
      },
      "outputs": [],
      "source": [
        "from sklearn.preprocessing import StandardScaler\n",
        "sc = StandardScaler()\n",
        "X_train = sc.fit_transform(X_train)\n",
        "X_test = sc.transform(X_test)"
      ]
    },
    {
      "cell_type": "code",
      "execution_count": 289,
      "id": "08fac66e",
      "metadata": {
        "colab": {
          "base_uri": "https://localhost:8080/"
        },
        "id": "08fac66e",
        "outputId": "27cd861d-eb8d-42bc-f978-22d63d5126a4"
      },
      "outputs": [
        {
          "output_type": "stream",
          "name": "stdout",
          "text": [
            "(891, 22)\n",
            "(418, 22)\n",
            "(891, 1)\n",
            "(418, 1)\n"
          ]
        }
      ],
      "source": [
        "print(X_train.shape)\n",
        "print(X_test.shape)\n",
        "from sklearn.cluster import KMeans\n",
        "kmeans = KMeans(n_clusters = 8)\n",
        "y_kmeans_train = kmeans.fit_predict(X_train)\n",
        "y_kmeans_test = kmeans.fit_predict(X_test)\n",
        "y_kmeans_train = y_kmeans_train.reshape((len(y_kmeans_train),1))\n",
        "y_kmeans_test = y_kmeans_test.reshape((len(y_kmeans_test),1))\n",
        "print(y_kmeans_train.shape)\n",
        "print(y_kmeans_test.shape)"
      ]
    },
    {
      "cell_type": "code",
      "execution_count": 290,
      "id": "7cd038df",
      "metadata": {
        "colab": {
          "base_uri": "https://localhost:8080/"
        },
        "id": "7cd038df",
        "outputId": "b11f7e7a-89f5-4e31-c006-798286941d67"
      },
      "outputs": [
        {
          "output_type": "stream",
          "name": "stdout",
          "text": [
            "(891, 22)\n",
            "(418, 22)\n",
            "[[ 0.82737724 -0.42475618  0.43279337 ... -0.30756234  0.61930636\n",
            "   1.        ]\n",
            " [-1.56610693  0.63091399  0.43279337 ... -0.30756234 -1.61470971\n",
            "   2.        ]\n",
            " [ 0.82737724 -0.42475618 -0.4745452  ... -0.30756234  0.61930636\n",
            "   3.        ]\n",
            " ...\n",
            " [ 0.82737724  0.1030789   0.43279337 ... -0.30756234  0.61930636\n",
            "   3.        ]\n",
            " [-1.56610693 -0.42475618 -0.4745452  ... -0.30756234 -1.61470971\n",
            "   4.        ]\n",
            " [ 0.82737724  0.1030789  -0.4745452  ...  3.25137334 -1.61470971\n",
            "   1.        ]]\n"
          ]
        }
      ],
      "source": [
        "print(X_train.shape)\n",
        "print(X_test.shape)\n",
        "X_train = np.concatenate((X_train,y_kmeans_train),axis=1)\n",
        "X_test = np.concatenate((X_test,y_kmeans_test),axis=1)\n",
        "print(X_train)"
      ]
    },
    {
      "cell_type": "code",
      "source": [
        "print(X_train.shape)\n",
        "print(X_test.shape)"
      ],
      "metadata": {
        "colab": {
          "base_uri": "https://localhost:8080/"
        },
        "id": "x8jNU_PXdwB_",
        "outputId": "c9107d71-3c23-4936-afde-1a22dc2f2f8f"
      },
      "id": "x8jNU_PXdwB_",
      "execution_count": 291,
      "outputs": [
        {
          "output_type": "stream",
          "name": "stdout",
          "text": [
            "(891, 23)\n",
            "(418, 23)\n"
          ]
        }
      ]
    },
    {
      "cell_type": "code",
      "execution_count": 292,
      "id": "ddaa12c7",
      "metadata": {
        "id": "ddaa12c7"
      },
      "outputs": [],
      "source": [
        "from sklearn.decomposition import PCA\n",
        "pca = PCA(n_components = 6)\n",
        "X_train = pca.fit_transform(X_train)\n",
        "X_test = pca.transform(X_test)"
      ]
    },
    {
      "cell_type": "code",
      "execution_count": 293,
      "id": "4de89b37",
      "metadata": {
        "colab": {
          "base_uri": "https://localhost:8080/"
        },
        "id": "4de89b37",
        "outputId": "375b9557-2c34-4d1f-b617-64ade5603810"
      },
      "outputs": [
        {
          "output_type": "execute_result",
          "data": {
            "text/plain": [
              "LogisticRegression(random_state=0)"
            ]
          },
          "metadata": {},
          "execution_count": 293
        }
      ],
      "source": [
        "from sklearn.linear_model import LogisticRegression\n",
        "classifier = LogisticRegression(random_state = 0)\n",
        "classifier.fit(X_train, y_train)"
      ]
    },
    {
      "cell_type": "code",
      "execution_count": 294,
      "id": "2e6a1967",
      "metadata": {
        "id": "2e6a1967"
      },
      "outputs": [],
      "source": [
        "y_pred = classifier.predict(X_test)"
      ]
    },
    {
      "cell_type": "code",
      "execution_count": 295,
      "id": "05f64b0b",
      "metadata": {
        "id": "05f64b0b"
      },
      "outputs": [],
      "source": [
        "pred = pd.DataFrame(y_pred)\n",
        "sub_df = pd.read_csv('gender_submission.csv')\n",
        "dataset = pd.concat([sub_df['PassengerId'],pred],axis=1)\n",
        "dataset.columns = sub_df.columns\n",
        "dataset.to_csv('gender_submission.csv',index=False)"
      ]
    },
    {
      "cell_type": "code",
      "source": [
        ""
      ],
      "metadata": {
        "id": "jIQEm451lxWv"
      },
      "id": "jIQEm451lxWv",
      "execution_count": null,
      "outputs": []
    },
    {
      "cell_type": "code",
      "execution_count": 296,
      "id": "1e134735",
      "metadata": {
        "colab": {
          "base_uri": "https://localhost:8080/"
        },
        "id": "1e134735",
        "outputId": "aa0ee6d8-5d7d-4f25-8225-02ea39e9dc74"
      },
      "outputs": [
        {
          "output_type": "execute_result",
          "data": {
            "text/plain": [
              "array([0, 0, 0, 0, 0, 0, 1, 0, 1, 0, 0, 0, 1, 0, 1, 1, 0, 0, 1, 0, 0, 1,\n",
              "       1, 1, 1, 0, 1, 0, 0, 0, 0, 0, 0, 0, 1, 0, 1, 1, 0, 0, 0, 0, 0, 1,\n",
              "       1, 0, 1, 0, 1, 0, 0, 0, 1, 1, 0, 0, 0, 0, 0, 1, 0, 0, 0, 1, 1, 1,\n",
              "       1, 0, 1, 1, 1, 0, 1, 1, 1, 1, 0, 1, 0, 1, 1, 1, 0, 0, 0, 0, 1, 1,\n",
              "       1, 1, 0, 0, 1, 0, 1, 0, 1, 0, 1, 0, 1, 0, 0, 0, 1, 0, 0, 0, 0, 0,\n",
              "       0, 1, 1, 1, 1, 0, 0, 1, 1, 1, 1, 0, 1, 0, 0, 1, 0, 1, 0, 0, 0, 1,\n",
              "       0, 0, 0, 0, 0, 0, 1, 0, 0, 1, 0, 0, 0, 0, 0, 0, 0, 0, 1, 0, 0, 0,\n",
              "       0, 0, 1, 1, 0, 0, 1, 1, 1, 0, 1, 0, 1, 0, 1, 1, 0, 0, 0, 0, 0, 1,\n",
              "       1, 1, 0, 1, 0, 1, 1, 0, 1, 0, 1, 0, 0, 0, 0, 0, 1, 0, 1, 0, 1, 1,\n",
              "       0, 0, 1, 1, 1, 1, 0, 1, 1, 0, 1, 0, 0, 0, 0, 0, 0, 0, 1, 0, 1, 0,\n",
              "       1, 0, 1, 0, 1, 0, 0, 1, 0, 0, 0, 1, 0, 0, 1, 0, 1, 0, 1, 1, 1, 0,\n",
              "       1, 0, 0, 0, 1, 0, 1, 0, 1, 0, 1, 0, 0, 0, 0, 0, 1, 0, 0, 0, 0, 1,\n",
              "       0, 0, 0, 0, 1, 0, 1, 0, 1, 1, 0, 1, 0, 0, 0, 0, 1, 1, 1, 1, 1, 0,\n",
              "       0, 0, 0, 0, 0, 1, 0, 0, 0, 0, 1, 0, 0, 0, 0, 0, 0, 0, 1, 1, 0, 1,\n",
              "       0, 0, 0, 0, 0, 1, 1, 1, 0, 0, 0, 0, 0, 0, 0, 0, 1, 0, 1, 1, 0, 0,\n",
              "       0, 1, 0, 1, 0, 0, 0, 0, 0, 1, 0, 0, 0, 1, 0, 1, 0, 0, 0, 1, 1, 0,\n",
              "       0, 0, 1, 0, 1, 0, 0, 0, 0, 1, 1, 0, 1, 0, 0, 1, 1, 0, 0, 1, 0, 0,\n",
              "       1, 1, 1, 0, 0, 0, 0, 0, 1, 1, 0, 1, 0, 0, 0, 0, 0, 1, 1, 0, 0, 1,\n",
              "       0, 1, 0, 0, 1, 0, 1, 0, 1, 1, 0, 0, 1, 1, 1, 1, 1, 0, 1, 0, 0, 0])"
            ]
          },
          "metadata": {},
          "execution_count": 296
        }
      ],
      "source": [
        "y_pred"
      ]
    }
  ],
  "metadata": {
    "kernelspec": {
      "display_name": "Python 3 (ipykernel)",
      "language": "python",
      "name": "python3"
    },
    "language_info": {
      "codemirror_mode": {
        "name": "ipython",
        "version": 3
      },
      "file_extension": ".py",
      "mimetype": "text/x-python",
      "name": "python",
      "nbconvert_exporter": "python",
      "pygments_lexer": "ipython3",
      "version": "3.9.7"
    },
    "colab": {
      "name": "Titanic_2.ipynb",
      "provenance": [],
      "collapsed_sections": [],
      "toc_visible": true
    }
  },
  "nbformat": 4,
  "nbformat_minor": 5
}