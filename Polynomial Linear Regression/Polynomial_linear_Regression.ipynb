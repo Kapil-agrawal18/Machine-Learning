{
  "nbformat": 4,
  "nbformat_minor": 0,
  "metadata": {
    "colab": {
      "name": "Polynomial linear Regression.ipynb",
      "provenance": []
    },
    "kernelspec": {
      "name": "python3",
      "display_name": "Python 3"
    },
    "language_info": {
      "name": "python"
    }
  },
  "cells": [
    {
      "cell_type": "code",
      "execution_count": 95,
      "metadata": {
        "id": "20hCKnawpUWC"
      },
      "outputs": [],
      "source": [
        "import numpy as np\n",
        "import matplotlib.pyplot as plt\n",
        "import pandas as pd"
      ]
    },
    {
      "cell_type": "code",
      "source": [
        "dataset = pd.read_csv(\"Position_Salaries.csv\")\n",
        "X = dataset.iloc[:, 1:-1].values\n",
        "Y = dataset.iloc[:, -1:].values"
      ],
      "metadata": {
        "id": "jGp4b84-pk99"
      },
      "execution_count": 96,
      "outputs": []
    },
    {
      "cell_type": "code",
      "source": [
        "X_extra=X\n",
        "X_p = X\n",
        "for i in range(10):\n",
        "  X_extra = X_extra * X\n",
        "  X_p = np.concatenate((X_p,X_extra),axis=1)"
      ],
      "metadata": {
        "id": "f9kQ7foTspU7"
      },
      "execution_count": 97,
      "outputs": []
    },
    {
      "cell_type": "code",
      "source": [
        "print(X_p[1,:])\n",
        "print(X)"
      ],
      "metadata": {
        "colab": {
          "base_uri": "https://localhost:8080/"
        },
        "id": "kJdPlRv2vbSQ",
        "outputId": "443b5129-17c6-4818-81c3-ec9182798e9d"
      },
      "execution_count": 98,
      "outputs": [
        {
          "output_type": "stream",
          "name": "stdout",
          "text": [
            "[   2    4    8   16   32   64  128  256  512 1024 2048]\n",
            "[[ 1]\n",
            " [ 2]\n",
            " [ 3]\n",
            " [ 4]\n",
            " [ 5]\n",
            " [ 6]\n",
            " [ 7]\n",
            " [ 8]\n",
            " [ 9]\n",
            " [10]]\n"
          ]
        }
      ]
    },
    {
      "cell_type": "code",
      "source": [
        "print(X_p)"
      ],
      "metadata": {
        "colab": {
          "base_uri": "https://localhost:8080/"
        },
        "id": "W7yGwcBiv7p1",
        "outputId": "64466194-4123-44c0-9bd1-74bdc4770ee6"
      },
      "execution_count": 99,
      "outputs": [
        {
          "output_type": "stream",
          "name": "stdout",
          "text": [
            "[[           1            1            1            1            1\n",
            "             1            1            1            1            1\n",
            "             1]\n",
            " [           2            4            8           16           32\n",
            "            64          128          256          512         1024\n",
            "          2048]\n",
            " [           3            9           27           81          243\n",
            "           729         2187         6561        19683        59049\n",
            "        177147]\n",
            " [           4           16           64          256         1024\n",
            "          4096        16384        65536       262144      1048576\n",
            "       4194304]\n",
            " [           5           25          125          625         3125\n",
            "         15625        78125       390625      1953125      9765625\n",
            "      48828125]\n",
            " [           6           36          216         1296         7776\n",
            "         46656       279936      1679616     10077696     60466176\n",
            "     362797056]\n",
            " [           7           49          343         2401        16807\n",
            "        117649       823543      5764801     40353607    282475249\n",
            "    1977326743]\n",
            " [           8           64          512         4096        32768\n",
            "        262144      2097152     16777216    134217728   1073741824\n",
            "    8589934592]\n",
            " [           9           81          729         6561        59049\n",
            "        531441      4782969     43046721    387420489   3486784401\n",
            "   31381059609]\n",
            " [          10          100         1000        10000       100000\n",
            "       1000000     10000000    100000000   1000000000  10000000000\n",
            "  100000000000]]\n"
          ]
        }
      ]
    },
    {
      "cell_type": "code",
      "source": [
        "from sklearn.model_selection import train_test_split\n",
        "X_train, X_test, y_train, y_test = train_test_split(\n",
        "    X_p, Y, test_size=0.2, random_state=0)"
      ],
      "metadata": {
        "id": "QRvH1r1LqA1u"
      },
      "execution_count": 100,
      "outputs": []
    },
    {
      "cell_type": "code",
      "source": [
        "from sklearn.linear_model import LinearRegression\n",
        "regressor = LinearRegression()\n",
        "regressor.fit(X_train, y_train)\n",
        "y_pred = regressor.predict(X_p)\n",
        "print(np.concatenate((y_pred,Y),axis=1))"
      ],
      "metadata": {
        "colab": {
          "base_uri": "https://localhost:8080/"
        },
        "id": "xB6ivzTmpoyZ",
        "outputId": "9e1e68ff-dddb-40d1-c6ce-4cafd93ae51e"
      },
      "execution_count": 101,
      "outputs": [
        {
          "output_type": "stream",
          "name": "stdout",
          "text": [
            "[[  45000.0003116    45000.        ]\n",
            " [  50000.00025793   50000.        ]\n",
            " [  61149.30311041   60000.        ]\n",
            " [  80000.00015412   80000.        ]\n",
            " [ 110000.00022089  110000.        ]\n",
            " [ 150000.00028667  150000.        ]\n",
            " [ 200000.0002461   200000.        ]\n",
            " [ 300000.00016434  300000.        ]\n",
            " [ 556532.57405345  500000.        ]\n",
            " [ 999999.99835823 1000000.        ]]\n"
          ]
        }
      ]
    },
    {
      "cell_type": "code",
      "source": [
        "plt.plot(X_p[:,0],y_pred)\n",
        "plt.show()"
      ],
      "metadata": {
        "colab": {
          "base_uri": "https://localhost:8080/",
          "height": 276
        },
        "id": "bsKrQIUlqtb7",
        "outputId": "46332282-2ba3-4174-fa0b-e4e61312b5fe"
      },
      "execution_count": 102,
      "outputs": [
        {
          "output_type": "display_data",
          "data": {
            "text/plain": [
              "<Figure size 432x288 with 1 Axes>"
            ],
            "image/png": "[encoded data removed]"
          },
          "metadata": {
            "needs_background": "light"
          }
        }
      ]
    }
  ]
}